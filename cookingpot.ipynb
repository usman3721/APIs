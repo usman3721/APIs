{
 "cells": [
  {
   "cell_type": "code",
   "execution_count": 12,
   "metadata": {},
   "outputs": [],
   "source": [
    "import requests\n",
    "from bs4 import BeautifulSoup\n",
    "import lxml\n",
    "import smtplib\n",
    "\n",
    "\n",
    "target_price='143.99'\n",
    "e_mail=\"abuzaydin007@gmail.com\"\n",
    "password=\"yzgnzeiarkhkixtu\"\n",
    "PRODUCT_ENDPOINT=\"https://www.amazon.com/Logitech-SUPERLIGHT-Ultra-Lightweight-Programmable-Compatible/dp/B087LXCTFJ/ref=sr_1_2?crid=2HRQZFB9YID6M&keywords=logitech%2Bg%2Bstore&qid=1666275890&qu=eyJxc2MiOiIzLjM3IiwicXNhIjoiMy40OCIsInFzcCI6IjIuNzEifQ%3D%3D&sr=8-2&th=1\"\n",
    "header={\n",
    "    \"Accept-Language\":\"en-US,en;q=0.9\",\n",
    "    \"User-Agent\":\"Mozilla/5.0 (Windows NT 10.0; Win64; x64) AppleWebKit/537.36 (KHTML, like Gecko) Chrome/106.0.0.0 Safari/537.36\",\n",
    "    \"Accept-Encoding\":\"gzip, deflate\",\n",
    "    \"Connection\":\"keep-alive\"\n",
    "}\n",
    "response=requests.get(url=PRODUCT_ENDPOINT,headers=header)\n",
    "soup=BeautifulSoup(response.content,\"html.parser\")"
   ]
  },
  {
   "cell_type": "code",
   "execution_count": 15,
   "metadata": {},
   "outputs": [],
   "source": [
    "price=soup.find(\"span\",class_=\"a-offscreen\").text.replace(\"$\",\"\")\n",
    "if price < target_price or price ==target_price:\n",
    "    with smtplib.SMTP(\"smtp.gmail.com\",port=587) as connection:\n",
    "        connection.starttls()\n",
    "        connection.login(user=e_mail,password=password)\n",
    "        connection.sendmail(from_addr=e_mail,\n",
    "        to_addrs=e_mail,\n",
    "        msg=f\"Subject:Logitech Mouse \\n\\nHello the usman the LogiTech mouse you want tp purchase has now reduced to your Target Price {price}\")\n",
    "        connection.close()\n",
    "\n"
   ]
  }
 ],
 "metadata": {
  "kernelspec": {
   "display_name": "Python 3.10.6 64-bit",
   "language": "python",
   "name": "python3"
  },
  "language_info": {
   "codemirror_mode": {
    "name": "ipython",
    "version": 3
   },
   "file_extension": ".py",
   "mimetype": "text/x-python",
   "name": "python",
   "nbconvert_exporter": "python",
   "pygments_lexer": "ipython3",
   "version": "3.10.6"
  },
  "orig_nbformat": 4,
  "vscode": {
   "interpreter": {
    "hash": "63963b3f4c440940f0b94a3100916033a226cb4f45979123153792d60aa56d6a"
   }
  }
 },
 "nbformat": 4,
 "nbformat_minor": 2
}
