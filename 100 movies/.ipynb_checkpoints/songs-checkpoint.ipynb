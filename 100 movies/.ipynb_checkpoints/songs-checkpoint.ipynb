{
 "cells": [
  {
   "cell_type": "code",
   "execution_count": 4,
   "id": "96e2100e-4ffb-4be6-a216-5a846feef923",
   "metadata": {
    "tags": []
   },
   "outputs": [
    {
     "ename": "AttributeError",
     "evalue": "'SpotifyOAuth' object has no attribute 'text'",
     "output_type": "error",
     "traceback": [
      "\u001b[1;31m---------------------------------------------------------------------------\u001b[0m",
      "\u001b[1;31mAttributeError\u001b[0m                            Traceback (most recent call last)",
      "Cell \u001b[1;32mIn [4], line 7\u001b[0m\n\u001b[0;32m      5\u001b[0m CLIENT_ID\u001b[38;5;241m=\u001b[39m\u001b[38;5;124m\"\u001b[39m\u001b[38;5;124mf6b66d0fdf984840a500acb31562823a\u001b[39m\u001b[38;5;124m\"\u001b[39m\n\u001b[0;32m      6\u001b[0m CLIENT_SECRET\u001b[38;5;241m=\u001b[39m\u001b[38;5;124m\"\u001b[39m\u001b[38;5;124m53cd1b6327d466f9b1209058138ea90\u001b[39m\u001b[38;5;124m\"\u001b[39m\n\u001b[1;32m----> 7\u001b[0m \u001b[43mSpotifyOAuth\u001b[49m\u001b[43m(\u001b[49m\u001b[43mclient_id\u001b[49m\u001b[38;5;241;43m=\u001b[39;49m\u001b[43mCLIENT_ID\u001b[49m\u001b[43m,\u001b[49m\u001b[43mclient_secret\u001b[49m\u001b[38;5;241;43m=\u001b[39;49m\u001b[43mCLIENT_SECRET\u001b[49m\u001b[43m,\u001b[49m\u001b[43m \u001b[49m\u001b[43mredirect_uri\u001b[49m\u001b[38;5;241;43m=\u001b[39;49m\u001b[38;5;124;43m\"\u001b[39;49m\u001b[38;5;124;43mhttp://example.com\u001b[39;49m\u001b[38;5;124;43m\"\u001b[39;49m\u001b[43m,\u001b[49m\u001b[43mscope\u001b[49m\u001b[38;5;241;43m=\u001b[39;49m\u001b[38;5;124;43m\"\u001b[39;49m\u001b[38;5;124;43mprivate-modify-private\u001b[39;49m\u001b[38;5;124;43m\"\u001b[39;49m\u001b[43m)\u001b[49m\u001b[38;5;241;43m.\u001b[39;49m\u001b[43mtext\u001b[49m\n",
      "\u001b[1;31mAttributeError\u001b[0m: 'SpotifyOAuth' object has no attribute 'text'"
     ]
    }
   ],
   "source": [
    "import spotipy\n",
    "from spotipy.oauth2 import SpotifyOAuth\n",
    "import requests\n",
    "from bs4 import BeautifulSoup\n",
    "CLIENT_ID=\"f6b66d0fdf984840a500acb31562823a\"\n",
    "CLIENT_SECRET=\"53cd1b6327d466f9b1209058138ea90\"\n",
    "potifyOAuth(client_id=CLIENT_ID,\n",
    "             client_secret=CLIENT_SECRET, \n",
    "             redirect_uri=\"http://example.com\",\n",
    "             scope=\"private-modify-private\",\n",
    "             show_dialog=True,\n",
    "             cache_path=\"token.txt\")\n",
    "sp = spotipy.Spotify(auth_manager=\n",
    "                     sp = spotipy.Spotify(auth_manager=SpotifyOAuth(scope=scope))"
   ]
  },
  {
   "cell_type": "code",
   "execution_count": null,
   "id": "78616ebc-787a-4225-8ee8-83b8714d8d09",
   "metadata": {
    "collapsed": true,
    "jupyter": {
     "outputs_hidden": true
    },
    "tags": []
   },
   "outputs": [],
   "source": [
    "# date=input(\"What year woul you like to travel? Type response in this format YYYY-MM-DD\")\n",
    "response=requests.get(\"https://www.billboard.com/charts/hot-100/2000-08-12\")\n",
    "soup=BeautifulSoup(response.text,\"html.parser\")\n",
    "titles=soup.select(selector=\"ul li h3\")\n",
    "title_text=[title.getText().replace(\"\\n\",\"\").replace(\"\\t\",\"\").split(\"\\n\") for title in titles]\n",
    "print(title_text)"
   ]
  }
 ],
 "metadata": {
  "kernelspec": {
   "display_name": "Python 3 (ipykernel)",
   "language": "python",
   "name": "python3"
  },
  "language_info": {
   "codemirror_mode": {
    "name": "ipython",
    "version": 3
   },
   "file_extension": ".py",
   "mimetype": "text/x-python",
   "name": "python",
   "nbconvert_exporter": "python",
   "pygments_lexer": "ipython3",
   "version": "3.10.6"
  }
 },
 "nbformat": 4,
 "nbformat_minor": 5
}
