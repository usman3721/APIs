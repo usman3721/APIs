{
 "cells": [
  {
   "cell_type": "code",
   "execution_count": 20,
   "id": "96e2100e-4ffb-4be6-a216-5a846feef923",
   "metadata": {
    "tags": []
   },
   "outputs": [],
   "source": [
    "#importing needed modules\n",
    "import spotipy\n",
    "from spotipy.oauth2 import SpotifyOAuth\n",
    "import requests\n",
    "from bs4 import BeautifulSoup\n",
    "\n",
    "#creating an id and screet for authorization\n",
    "CLIENT_ID=\"f6b66d0fdf984840a500acb31562823a\"\n",
    "CLIENT_SECRET=\"553cd1b6327d466f9b1209058138ea90\"\n",
    "\n",
    "#authentication process\n",
    "sp = spotipy.Spotify(auth_manager=SpotifyOAuth(client_id=CLIENT_ID,\n",
    "             client_secret=CLIENT_SECRET, \n",
    "             redirect_uri=\"http://example.com\",\n",
    "             scope=\"playlist-modify-private\",\n",
    "             show_dialog=True,\n",
    "             cache_path=\"token.txt\"))\n",
    "\n",
    "\n",
    "user_id=sp.current_user()[\"id\"] # getting the user id\n"
   ]
  },
  {
   "cell_type": "code",
   "execution_count": 9,
   "id": "78616ebc-787a-4225-8ee8-83b8714d8d09",
   "metadata": {
    "tags": []
   },
   "outputs": [
    {
     "name": "stdout",
     "output_type": "stream",
     "text": [
      "What year woul you like to travel? Type response in this format YYYY-MM-DD 2000-08-12\n"
     ]
    }
   ],
   "source": [
    "#creatinf soup and getting the songlist\n",
    "date=input(\"What year woul you like to travel? Type response in this format YYYY-MM-DD\")\n",
    "response=requests.get(\"https://www.billboard.com/charts/hot-100/2000-08-12\")\n",
    "soup=BeautifulSoup(response.text,\"html.parser\")\n",
    "titles=soup.select(selector=\"ul li h3\")\n",
    "song_list=[title.getText().replace(\"\\n\",\"\").replace(\"\\t\",\"\").split(\"\\n\") for title in titles]\n"
   ]
  },
  {
   "cell_type": "code",
   "execution_count": 15,
   "id": "a62788fc-4520-49cb-aa9c-0d928c26b29b",
   "metadata": {
    "collapsed": true,
    "jupyter": {
     "outputs_hidden": true
    },
    "tags": []
   },
   "outputs": [
    {
     "name": "stdout",
     "output_type": "stream",
     "text": [
      "[\"It's Gonna Be Me\"] doesn't exist in Spotify. Skipped.\n",
      "[\"Jumpin', Jumpin'\"] doesn't exist in Spotify. Skipped.\n",
      "[\"Doesn't Really Matter\"] doesn't exist in Spotify. Skipped.\n",
      "[\"He Wasn't Man Enough\"] doesn't exist in Spotify. Skipped.\n",
      "[\"Let's Get Married\"] doesn't exist in Spotify. Skipped.\n",
      "['(Hot S**t) Country Grammar'] doesn't exist in Spotify. Skipped.\n",
      "[\"I Think I'm In Love With You\"] doesn't exist in Spotify. Skipped.\n",
      "[\"What'Chu Like\"] doesn't exist in Spotify. Skipped.\n",
      "[\"That's The Way\"] doesn't exist in Spotify. Skipped.\n",
      "[\"Big Pimpin'\"] doesn't exist in Spotify. Skipped.\n",
      "['Purest Of Pain (A Puro Dolor)'] doesn't exist in Spotify. Skipped.\n",
      "[\"Prayin' For Daylight\"] doesn't exist in Spotify. Skipped.\n",
      "['Come On Over Baby (All I Want Is You)'] doesn't exist in Spotify. Skipped.\n",
      "['Swear It Again'] doesn't exist in Spotify. Skipped.\n",
      "[\"Callin' Me\"] doesn't exist in Spotify. Skipped.\n",
      "[\"I'll Be\"] doesn't exist in Spotify. Skipped.\n",
      "[\"It's My Life\"] doesn't exist in Spotify. Skipped.\n",
      "[\"Don't Think I'm Not\"] doesn't exist in Spotify. Skipped.\n",
      "[\"You'll Always Be Loved By Me\"] doesn't exist in Spotify. Skipped.\n",
      "['Cold Day In July'] doesn't exist in Spotify. Skipped.\n",
      "['Californication'] doesn't exist in Spotify. Skipped.\n",
      "['Country Comes To Town'] doesn't exist in Spotify. Skipped.\n",
      "['When You Need My Love'] doesn't exist in Spotify. Skipped.\n",
      "[\"It's Always Somethin'\"] doesn't exist in Spotify. Skipped.\n",
      "[\"Let's Make Love\"] doesn't exist in Spotify. Skipped.\n",
      "['With Arms Wide Open'] doesn't exist in Spotify. Skipped.\n",
      "[\"Don't Call Me Baby\"] doesn't exist in Spotify. Skipped.\n",
      "['ChartsExpand charts menu'] doesn't exist in Spotify. Skipped.\n",
      "['MusicExpand music menu'] doesn't exist in Spotify. Skipped.\n",
      "['CultureExpand culture menu'] doesn't exist in Spotify. Skipped.\n",
      "['MediaExpand media menu'] doesn't exist in Spotify. Skipped.\n",
      "['BusinessExpand business menu'] doesn't exist in Spotify. Skipped.\n",
      "['Pro ToolsExpand pro-tools menu'] doesn't exist in Spotify. Skipped.\n"
     ]
    }
   ],
   "source": [
    "#creating a song list\n",
    "song_uris=[]\n",
    "year=date.split(\"-\")[0]\n",
    "for song in song_list:\n",
    "    result=sp.search(q=f\"track:{song} year:{year}\",type=\"track\")\n",
    "    try:\n",
    "        uri=result[\"tracks\"][\"items\"][0][\"uri\"]\n",
    "        song_uris.append(uri)\n",
    "    except IndexError:\n",
    "        print(f\"{song} doesn't exist in Spotify. Skipped.\")"
   ]
  },
  {
   "cell_type": "code",
   "execution_count": 24,
   "id": "a901237f-087d-4554-a406-d21445ce1792",
   "metadata": {
    "tags": []
   },
   "outputs": [
    {
     "name": "stdout",
     "output_type": "stream",
     "text": [
      "{'collaborative': False, 'description': '', 'external_urls': {'spotify': 'https://open.spotify.com/playlist/3ThXJVeeXsaf8hixUEoNoT'}, 'followers': {'href': None, 'total': 0}, 'href': 'https://api.spotify.com/v1/playlists/3ThXJVeeXsaf8hixUEoNoT', 'id': '3ThXJVeeXsaf8hixUEoNoT', 'images': [], 'name': '2000-08-12 Billboard 100', 'owner': {'display_name': 'usman hassan', 'external_urls': {'spotify': 'https://open.spotify.com/user/31sv4fqqhv3kjxlhvycjrpwr4ina'}, 'href': 'https://api.spotify.com/v1/users/31sv4fqqhv3kjxlhvycjrpwr4ina', 'id': '31sv4fqqhv3kjxlhvycjrpwr4ina', 'type': 'user', 'uri': 'spotify:user:31sv4fqqhv3kjxlhvycjrpwr4ina'}, 'primary_color': None, 'public': False, 'snapshot_id': 'MSwwN2E2OTY4NDIzYzQ0Y2FiMGI5MTMzNzdmODZjOWNmODc0Mzk0Y2Yy', 'tracks': {'href': 'https://api.spotify.com/v1/playlists/3ThXJVeeXsaf8hixUEoNoT/tracks', 'items': [], 'limit': 100, 'next': None, 'offset': 0, 'previous': None, 'total': 0}, 'type': 'playlist', 'uri': 'spotify:playlist:3ThXJVeeXsaf8hixUEoNoT'}\n"
     ]
    },
    {
     "data": {
      "text/plain": [
       "{'snapshot_id': 'MixmMjQ1ZDk1Yjc0NDZjZmZiOTY1NjNiYTZiYTg5MjYwZTM1NDMwNjU0'}"
      ]
     },
     "execution_count": 24,
     "metadata": {},
     "output_type": "execute_result"
    }
   ],
   "source": [
    "#creating a playlist\n",
    "playlist=sp.user_playlist_create(user=user_id, name=f\"{date} Billboard 100\",public=False)\n",
    "print(playlist)\n",
    "sp.playlist_add_items(playlist_id=playlist[\"id\"], items=song_uris)"
   ]
  }
 ],
 "metadata": {
  "kernelspec": {
   "display_name": "Python 3.10.6 64-bit",
   "language": "python",
   "name": "python3"
  },
  "language_info": {
   "codemirror_mode": {
    "name": "ipython",
    "version": 3
   },
   "file_extension": ".py",
   "mimetype": "text/x-python",
   "name": "python",
   "nbconvert_exporter": "python",
   "pygments_lexer": "ipython3",
   "version": "3.10.6"
  },
  "vscode": {
   "interpreter": {
    "hash": "63963b3f4c440940f0b94a3100916033a226cb4f45979123153792d60aa56d6a"
   }
  }
 },
 "nbformat": 4,
 "nbformat_minor": 5
}
