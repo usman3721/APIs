{
 "cells": [
  {
   "cell_type": "code",
   "execution_count": null,
   "id": "1774cd6d-ecec-436d-8df9-fe6cb92939e7",
   "metadata": {},
   "outputs": [],
   "source": [
    "from turtle import title\n",
    "from bs4 import BeautifulSoup\n",
    "import requests"
   ]
  },
  {
   "cell_type": "code",
   "execution_count": null,
   "id": "1cbf521a-a48c-4204-85ad-9be9c7c37e88",
   "metadata": {
    "tags": []
   },
   "outputs": [],
   "source": [
    "response=requests.get(\"https://www.timeout.com/film/best-movies-of-all-time\")\n",
    "web_html=response.text\n",
    "soup=BeautifulSoup(web_html,\"html.parser\")\n",
    "movies=str([t.getText().replace(\"\\xa0\",\" \") for t in soup.find_all(\"h3\", class_=\"_h3_cuogz_1\")])\n",
    "with open(\"movies.txt\", mode=\"w\") as file:\n",
    "    file.write(f\"{movies}\\n\")"
   ]
  },
  {
   "cell_type": "code",
   "execution_count": null,
   "id": "7c6084a0-9940-43ad-af39-5d284aefd15c",
   "metadata": {
    "tags": []
   },
   "outputs": [],
   "source": []
  },
  {
   "cell_type": "code",
   "execution_count": null,
   "id": "87cb11e9-6200-40e8-9c39-f22b92a288d0",
   "metadata": {},
   "outputs": [],
   "source": []
  },
  {
   "cell_type": "code",
   "execution_count": null,
   "id": "23781b79-ff81-4085-9613-f56a574f9557",
   "metadata": {},
   "outputs": [],
   "source": []
  }
 ],
 "metadata": {
  "kernelspec": {
   "display_name": "Python 3 (ipykernel)",
   "language": "python",
   "name": "python3"
  },
  "language_info": {
   "codemirror_mode": {
    "name": "ipython",
    "version": 3
   },
   "file_extension": ".py",
   "mimetype": "text/x-python",
   "name": "python",
   "nbconvert_exporter": "python",
   "pygments_lexer": "ipython3",
   "version": "3.10.6"
  },
  "vscode": {
   "interpreter": {
    "hash": "63963b3f4c440940f0b94a3100916033a226cb4f45979123153792d60aa56d6a"
   }
  }
 },
 "nbformat": 4,
 "nbformat_minor": 5
}
