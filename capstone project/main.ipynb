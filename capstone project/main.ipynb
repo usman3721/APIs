{
 "cells": [
  {
   "cell_type": "code",
   "execution_count": 1,
   "metadata": {},
   "outputs": [],
   "source": [
    "from selenium import webdriver\n",
    "from selenium.webdriver.common.by import By\n",
    "from selenium.webdriver.common.keys import Keys\n",
    "from bs4 import BeautifulSoup as bs\n",
    "import requests\n",
    "\n",
    "header={\n",
    "    \"User-Agent\":\"Mozilla/5.0 (Windows NT 10.0; Win64; x64) AppleWebKit/537.36 (KHTML, like Gecko) Chrome/106.0.0.0 Safari/537.36\",\n",
    "    \"Accept-Language\":\"en-US,en;q=0.9\"\n",
    "}\n",
    "\n",
    "response=requests.get(\"https://www.zillow.com/san-francisco-county-ca/rentals/?searchQueryState=%7B%22pagination%22%3A%7B%7D%2C%22usersSearchTerm%22%3A%22San%20Francisco%20County%2C%20CA%22%2C%22mapBounds%22%3A%7B%22west%22%3A-123.573749765625%2C%22east%22%3A-121.881855234375%2C%22south%22%3A37.21625737458822%2C%22north%22%3A38.34933823404294%7D%2C%22regionSelection%22%3A%5B%7B%22regionId%22%3A3227%2C%22regionType%22%3A4%7D%5D%2C%22isMapVisible%22%3Atrue%2C%22filterState%22%3A%7B%22price%22%3A%7B%22min%22%3A190105%2C%22max%22%3A456253%7D%2C%22mp%22%3A%7B%22min%22%3A1000%2C%22max%22%3A2400%7D%2C%22beds%22%3A%7B%22min%22%3A1%7D%2C%22fsba%22%3A%7B%22value%22%3Afalse%7D%2C%22fsbo%22%3A%7B%22value%22%3Afalse%7D%2C%22nc%22%3A%7B%22value%22%3Afalse%7D%2C%22fore%22%3A%7B%22value%22%3Afalse%7D%2C%22cmsn%22%3A%7B%22value%22%3Afalse%7D%2C%22auc%22%3A%7B%22value%22%3Afalse%7D%2C%22fr%22%3A%7B%22value%22%3Atrue%7D%2C%22ah%22%3A%7B%22value%22%3Atrue%7D%7D%2C%22isListVisible%22%3Atrue%2C%22mapZoom%22%3A9%7D\",headers=header)\n",
    "soup=bs(response.text,\"html.parser\")"
   ]
  },
  {
   "cell_type": "code",
   "execution_count": 35,
   "metadata": {},
   "outputs": [],
   "source": [
    "\n",
    "all_price=[]\n",
    "all_links=[]\n",
    "all_adresses=[]\n",
    "prices_list=[prices.text for prices in soup.find_all(\"div\", class_=\"StyledPropertyCardDataArea-c11n-8-73-8__sc-yipmu-0 hRqIYX\")]\n",
    "ad_list=[adressess.text for adressess in soup.find_all(\"a\", class_=\"StyledPropertyCardDataArea-c11n-8-73-8__sc-yipmu-0 lhIXlm property-card-link\")]\n",
    "links_list=[\"https://wwww.zillow.com\"+links[\"href\"] for links in soup.find_all(\"a\", class_=\"StyledPropertyCardDataArea-c11n-8-73-8__sc-yipmu-0 lhIXlm property-card-link\") if \"www\" not in links]\n"
   ]
  },
  {
   "cell_type": "code",
   "execution_count": 37,
   "metadata": {},
   "outputs": [
    {
     "name": "stderr",
     "output_type": "stream",
     "text": [
      "C:\\Users\\hp\\AppData\\Local\\Temp\\ipykernel_9748\\600250510.py:7: DeprecationWarning: executable_path has been deprecated, please pass in a Service object\n",
      "  driver=webdriver.Chrome(executable_path=chrome_driver)\n"
     ]
    },
    {
     "ename": "IndexError",
     "evalue": "list index out of range",
     "output_type": "error",
     "traceback": [
      "\u001b[1;31m---------------------------------------------------------------------------\u001b[0m",
      "\u001b[1;31mIndexError\u001b[0m                                Traceback (most recent call last)",
      "Cell \u001b[1;32mIn [37], line 13\u001b[0m\n\u001b[0;32m     11\u001b[0m links\u001b[39m=\u001b[39mdriver\u001b[39m.\u001b[39mfind_element(By\u001b[39m.\u001b[39mXPATH,\u001b[39m'\u001b[39m\u001b[39m//*[@id=\u001b[39m\u001b[39m\"\u001b[39m\u001b[39mmG61Hd\u001b[39m\u001b[39m\"\u001b[39m\u001b[39m]/div[2]/div/div[2]/div[3]/div/div/div[2]/div/div[1]/div/div[1]/input\u001b[39m\u001b[39m'\u001b[39m)\n\u001b[0;32m     12\u001b[0m submit\u001b[39m=\u001b[39mdriver\u001b[39m.\u001b[39mfind_element(By\u001b[39m.\u001b[39mXPATH,\u001b[39m'\u001b[39m\u001b[39m//*[@id=\u001b[39m\u001b[39m\"\u001b[39m\u001b[39mmG61Hd\u001b[39m\u001b[39m\"\u001b[39m\u001b[39m]/div[2]/div/div[3]/div[1]/div[1]/div\u001b[39m\u001b[39m'\u001b[39m)\n\u001b[1;32m---> 13\u001b[0m adresses\u001b[39m.\u001b[39msend_keys(ad_list[n])\n\u001b[0;32m     14\u001b[0m price\u001b[39m.\u001b[39msend_keys(prices_list[n])\n\u001b[0;32m     15\u001b[0m links\u001b[39m.\u001b[39msend_keys(links_list[n])\n",
      "\u001b[1;31mIndexError\u001b[0m: list index out of range"
     ]
    }
   ],
   "source": [
    "#\n",
    "\n",
    "\n",
    "import time\n",
    "for n in  range(10):\n",
    "    chrome_driver=\"/Webdevopment/chromedriver\"\n",
    "    driver=webdriver.Chrome(executable_path=chrome_driver)\n",
    "    driver.get(\"https://docs.google.com/forms/d/e/1FAIpQLScXuQ8echBeFXEOHMLG9AoXW-SG7YgAt_52mANs-O9LPhq3TQ/viewform?usp=sf_link\")\n",
    "    adresses=driver.find_element(By.XPATH ,value='//*[@id=\"mG61Hd\"]/div[2]/div/div[2]/div[1]/div/div/div[2]/div/div[1]/div/div[1]/input')\n",
    "    price=driver.find_element(By.XPATH,'//*[@id=\"mG61Hd\"]/div[2]/div/div[2]/div[2]/div/div/div[2]/div/div[1]/div/div[1]/input')\n",
    "    links=driver.find_element(By.XPATH,'//*[@id=\"mG61Hd\"]/div[2]/div/div[2]/div[3]/div/div/div[2]/div/div[1]/div/div[1]/input')\n",
    "    submit=driver.find_element(By.XPATH,'//*[@id=\"mG61Hd\"]/div[2]/div/div[3]/div[1]/div[1]/div')\n",
    "    adresses.send_keys(ad_list[n])\n",
    "    price.send_keys(prices_list[n])\n",
    "    links.send_keys(links_list[n])\n",
    "    submit.click()\n",
    "\n",
    "#rFrNMe k3kHxc RdH0ib yqQS1 zKHdkd\n",
    "#aCsJod oJeWuf"
   ]
  }
 ],
 "metadata": {
  "kernelspec": {
   "display_name": "Python 3.10.6 64-bit",
   "language": "python",
   "name": "python3"
  },
  "language_info": {
   "codemirror_mode": {
    "name": "ipython",
    "version": 3
   },
   "file_extension": ".py",
   "mimetype": "text/x-python",
   "name": "python",
   "nbconvert_exporter": "python",
   "pygments_lexer": "ipython3",
   "version": "3.10.6"
  },
  "orig_nbformat": 4,
  "vscode": {
   "interpreter": {
    "hash": "63963b3f4c440940f0b94a3100916033a226cb4f45979123153792d60aa56d6a"
   }
  }
 },
 "nbformat": 4,
 "nbformat_minor": 2
}
