{
 "cells": [
  {
   "cell_type": "code",
   "execution_count": 1,
   "metadata": {},
   "outputs": [
    {
     "name": "stderr",
     "output_type": "stream",
     "text": [
      "C:\\Users\\hp\\AppData\\Local\\Temp\\ipykernel_12976\\3603548507.py:5: DeprecationWarning: executable_path has been deprecated, please pass in a Service object\n",
      "  driver=webdriver.Chrome(executable_path=chrome_driver)\n"
     ]
    }
   ],
   "source": [
    "from selenium import webdriver\n",
    "from selenium.webdriver.common.by import By\n",
    "from bs4 import BeautifulSoup as bs\n",
    "chrome_driver=\"/Webdevopment/chromedriver\"\n",
    "driver=webdriver.Chrome(executable_path=chrome_driver)\n",
    "driver.get(\"https://www.python.org/\")"
   ]
  },
  {
   "cell_type": "code",
   "execution_count": null,
   "metadata": {},
   "outputs": [],
   "source": []
  },
  {
   "cell_type": "markdown",
   "metadata": {},
   "source": []
  },
  {
   "cell_type": "code",
   "execution_count": 60,
   "metadata": {},
   "outputs": [
    {
     "data": {
      "text/plain": [
       "{'2022-10-11': 'Join the Python Developers Survey 2022: Share and learn about the community',\n",
       " '2022-09-12': 'Python 3.11.0rc2 is now available',\n",
       " '2022-09-07': 'Python releases 3.10.7, 3.9.14, 3.8.14, and 3.7.14 are now available',\n",
       " '2022-08-08': 'Python 3.11.0rc1 is now available',\n",
       " '2022-08-02': 'Python 3.10.6 is available'}"
      ]
     },
     "execution_count": 60,
     "metadata": {},
     "output_type": "execute_result"
    }
   ],
   "source": [
    "from soupsieve import select\n",
    "\n",
    "\n",
    "soup=bs(driver.page_source,\"lxml\")\n",
    "upcoming_events={}\n",
    "dates=[a\n",
    ".text.strip() for a in soup.find(\"div\",class_=\"medium-widget blog-widget\").find_all(\"time\")]\n",
    "events=[a.text  for a in soup.find(\"div\",class_=\"medium-widget blog-widget\").find(\"ul\", class_='menu').find_all(\"a\")]\n",
    "{dates:events for dates,events in zip(dates,events)}\n"
   ]
  },
  {
   "cell_type": "code",
   "execution_count": 41,
   "metadata": {},
   "outputs": [
    {
     "data": {
      "text/plain": [
       "{'10-27': 'Python at Scale',\n",
       " '10-31': 'Global AI Developer Days - PyLadies Amsterdam',\n",
       " '11-02': 'NZPUG-Auckland: Crafting Software',\n",
       " '11-03': 'PyCon Sweden'}"
      ]
     },
     "execution_count": 41,
     "metadata": {},
     "output_type": "execute_result"
    }
   ],
   "source": [
    "events_time=driver.find_elements(By.CSS_SELECTOR,\".event-widget time\")\n",
    "events_name= driver.find_elements(By.CSS_SELECTOR,\".event-widget li  a\")\n",
    "{events_time.text:events_name.text for events_time,events_name in zip(events_time,events_name)}\n"
   ]
  },
  {
   "cell_type": "code",
   "execution_count": 101,
   "metadata": {},
   "outputs": [
    {
     "name": "stderr",
     "output_type": "stream",
     "text": [
      "C:\\Users\\hp\\AppData\\Local\\Temp\\ipykernel_12976\\1636313686.py:6: DeprecationWarning: executable_path has been deprecated, please pass in a Service object\n",
      "  driver=webdriver.Chrome(executable_path=chrome_driver)\n"
     ]
    }
   ],
   "source": [
    "#AUTOMATICALLY FILLINF FORMS\n",
    "from selenium import webdriver\n",
    "from selenium.webdriver.common.by import By\n",
    "from selenium.webdriver.common.keys import Keys\n",
    "from bs4 import BeautifulSoup as bs\n",
    "chrome_driver=\"/Webdevopment/chromedriver\"\n",
    "driver=webdriver.Chrome(executable_path=chrome_driver)\n",
    "driver.get(\"http://secure-retreat-92358.herokuapp.com/\")"
   ]
  },
  {
   "cell_type": "code",
   "execution_count": 102,
   "metadata": {},
   "outputs": [],
   "source": [
    "from selenium.webdriver.common.keys import Keys\n",
    "soup=bs(driver.page_source,\"lxml\")\n",
    "soup.find(\"div\", id=\"articlecount\").find(\"a\").text\n",
    "driver.find_element(By.CSS_SELECTOR,\"#articlecount a\").click()\n",
    "driver.find_element(By.LINK_TEXT,\"View history\").click()\n",
    "m=driver.find_element(By.NAME,\"search\")\n",
    "m.send_keys(\"Python\")\n",
    "# m.send_keys(Keys.ENTER)\n",
    "\n",
    "#FILLING ANGELA'S SITES\n",
    "\n",
    "# f_name=driver.find_element(By.NAME,\"fName\")\n",
    "# f_name.send_keys(\"Hassan\")\n",
    "\n",
    "# l_name=driver.find_element(By.NAME,\"lName\")\n",
    "# l_name.send_keys(\"usman\")\n",
    "\n",
    "# email=l_name=driver.find_element(By.NAME,\"email\")\n",
    "# email.send_keys(\"olamidehassan007@gmail.com\")\n",
    "\n",
    "# driver.find_element(By.CSS_SELECTOR,\"form button\").click()\n"
   ]
  },
  {
   "cell_type": "code",
   "execution_count": 2,
   "metadata": {},
   "outputs": [
    {
     "name": "stderr",
     "output_type": "stream",
     "text": [
      "C:\\Users\\hp\\AppData\\Local\\Temp\\ipykernel_6688\\854806597.py:6: DeprecationWarning: executable_path has been deprecated, please pass in a Service object\n",
      "  driver=webdriver.Chrome(executable_path=chrome_driver)\n"
     ]
    },
    {
     "ename": "WebDriverException",
     "evalue": "Message: unknown error: net::ERR_INTERNET_DISCONNECTED\n  (Session info: chrome=106.0.5249.119)\nStacktrace:\nBacktrace:\n\tOrdinal0 [0x00F11ED3+2236115]\n\tOrdinal0 [0x00EA92F1+1807089]\n\tOrdinal0 [0x00DB66FD+812797]\n\tOrdinal0 [0x00DB2C42+797762]\n\tOrdinal0 [0x00DA9C1D+760861]\n\tOrdinal0 [0x00DAA9FC+764412]\n\tOrdinal0 [0x00DA9E5F+761439]\n\tOrdinal0 [0x00DA9350+758608]\n\tOrdinal0 [0x00DA92C1+758465]\n\tOrdinal0 [0x00DA8113+753939]\n\tOrdinal0 [0x00DA861D+755229]\n\tOrdinal0 [0x00DB800E+819214]\n\tOrdinal0 [0x00E160CD+1204429]\n\tOrdinal0 [0x00E01A8C+1120908]\n\tOrdinal0 [0x00E159E2+1202658]\n\tOrdinal0 [0x00E018A6+1120422]\n\tOrdinal0 [0x00DDA73D+960317]\n\tOrdinal0 [0x00DDB71F+964383]\n\tGetHandleVerifier [0x011BE7E2+2743074]\n\tGetHandleVerifier [0x011B08D4+2685972]\n\tGetHandleVerifier [0x00FA2BAA+532202]\n\tGetHandleVerifier [0x00FA1990+527568]\n\tOrdinal0 [0x00EB080C+1837068]\n\tOrdinal0 [0x00EB4CD8+1854680]\n\tOrdinal0 [0x00EB4DC5+1854917]\n\tOrdinal0 [0x00EBED64+1895780]\n\tBaseThreadInitThunk [0x76BC0419+25]\n\tRtlGetAppContainerNamedObjectPath [0x771F74ED+237]\n\tRtlGetAppContainerNamedObjectPath [0x771F74BD+189]\n",
     "output_type": "error",
     "traceback": [
      "\u001b[1;31m---------------------------------------------------------------------------\u001b[0m",
      "\u001b[1;31mWebDriverException\u001b[0m                        Traceback (most recent call last)",
      "Cell \u001b[1;32mIn [2], line 7\u001b[0m\n\u001b[0;32m      5\u001b[0m chrome_driver\u001b[39m=\u001b[39m\u001b[39m\"\u001b[39m\u001b[39m/Webdevopment/chromedriver\u001b[39m\u001b[39m\"\u001b[39m\n\u001b[0;32m      6\u001b[0m driver\u001b[39m=\u001b[39mwebdriver\u001b[39m.\u001b[39mChrome(executable_path\u001b[39m=\u001b[39mchrome_driver)\n\u001b[1;32m----> 7\u001b[0m driver\u001b[39m.\u001b[39;49mget(\u001b[39m\"\u001b[39;49m\u001b[39mhttps://orteil.dashnet.org/cookieclicker/\u001b[39;49m\u001b[39m\"\u001b[39;49m)\n",
      "File \u001b[1;32mc:\\Users\\hp\\AppData\\Local\\Programs\\Python\\Python310\\lib\\site-packages\\selenium\\webdriver\\remote\\webdriver.py:441\u001b[0m, in \u001b[0;36mWebDriver.get\u001b[1;34m(self, url)\u001b[0m\n\u001b[0;32m    437\u001b[0m \u001b[39mdef\u001b[39;00m \u001b[39mget\u001b[39m(\u001b[39mself\u001b[39m, url: \u001b[39mstr\u001b[39m) \u001b[39m-\u001b[39m\u001b[39m>\u001b[39m \u001b[39mNone\u001b[39;00m:\n\u001b[0;32m    438\u001b[0m     \u001b[39m\"\"\"\u001b[39;00m\n\u001b[0;32m    439\u001b[0m \u001b[39m    Loads a web page in the current browser session.\u001b[39;00m\n\u001b[0;32m    440\u001b[0m \u001b[39m    \"\"\"\u001b[39;00m\n\u001b[1;32m--> 441\u001b[0m     \u001b[39mself\u001b[39;49m\u001b[39m.\u001b[39;49mexecute(Command\u001b[39m.\u001b[39;49mGET, {\u001b[39m'\u001b[39;49m\u001b[39murl\u001b[39;49m\u001b[39m'\u001b[39;49m: url})\n",
      "File \u001b[1;32mc:\\Users\\hp\\AppData\\Local\\Programs\\Python\\Python310\\lib\\site-packages\\selenium\\webdriver\\remote\\webdriver.py:429\u001b[0m, in \u001b[0;36mWebDriver.execute\u001b[1;34m(self, driver_command, params)\u001b[0m\n\u001b[0;32m    427\u001b[0m response \u001b[39m=\u001b[39m \u001b[39mself\u001b[39m\u001b[39m.\u001b[39mcommand_executor\u001b[39m.\u001b[39mexecute(driver_command, params)\n\u001b[0;32m    428\u001b[0m \u001b[39mif\u001b[39;00m response:\n\u001b[1;32m--> 429\u001b[0m     \u001b[39mself\u001b[39;49m\u001b[39m.\u001b[39;49merror_handler\u001b[39m.\u001b[39;49mcheck_response(response)\n\u001b[0;32m    430\u001b[0m     response[\u001b[39m'\u001b[39m\u001b[39mvalue\u001b[39m\u001b[39m'\u001b[39m] \u001b[39m=\u001b[39m \u001b[39mself\u001b[39m\u001b[39m.\u001b[39m_unwrap_value(\n\u001b[0;32m    431\u001b[0m         response\u001b[39m.\u001b[39mget(\u001b[39m'\u001b[39m\u001b[39mvalue\u001b[39m\u001b[39m'\u001b[39m, \u001b[39mNone\u001b[39;00m))\n\u001b[0;32m    432\u001b[0m     \u001b[39mreturn\u001b[39;00m response\n",
      "File \u001b[1;32mc:\\Users\\hp\\AppData\\Local\\Programs\\Python\\Python310\\lib\\site-packages\\selenium\\webdriver\\remote\\errorhandler.py:243\u001b[0m, in \u001b[0;36mErrorHandler.check_response\u001b[1;34m(self, response)\u001b[0m\n\u001b[0;32m    241\u001b[0m         alert_text \u001b[39m=\u001b[39m value[\u001b[39m'\u001b[39m\u001b[39malert\u001b[39m\u001b[39m'\u001b[39m]\u001b[39m.\u001b[39mget(\u001b[39m'\u001b[39m\u001b[39mtext\u001b[39m\u001b[39m'\u001b[39m)\n\u001b[0;32m    242\u001b[0m     \u001b[39mraise\u001b[39;00m exception_class(message, screen, stacktrace, alert_text)  \u001b[39m# type: ignore[call-arg]  # mypy is not smart enough here\u001b[39;00m\n\u001b[1;32m--> 243\u001b[0m \u001b[39mraise\u001b[39;00m exception_class(message, screen, stacktrace)\n",
      "\u001b[1;31mWebDriverException\u001b[0m: Message: unknown error: net::ERR_INTERNET_DISCONNECTED\n  (Session info: chrome=106.0.5249.119)\nStacktrace:\nBacktrace:\n\tOrdinal0 [0x00F11ED3+2236115]\n\tOrdinal0 [0x00EA92F1+1807089]\n\tOrdinal0 [0x00DB66FD+812797]\n\tOrdinal0 [0x00DB2C42+797762]\n\tOrdinal0 [0x00DA9C1D+760861]\n\tOrdinal0 [0x00DAA9FC+764412]\n\tOrdinal0 [0x00DA9E5F+761439]\n\tOrdinal0 [0x00DA9350+758608]\n\tOrdinal0 [0x00DA92C1+758465]\n\tOrdinal0 [0x00DA8113+753939]\n\tOrdinal0 [0x00DA861D+755229]\n\tOrdinal0 [0x00DB800E+819214]\n\tOrdinal0 [0x00E160CD+1204429]\n\tOrdinal0 [0x00E01A8C+1120908]\n\tOrdinal0 [0x00E159E2+1202658]\n\tOrdinal0 [0x00E018A6+1120422]\n\tOrdinal0 [0x00DDA73D+960317]\n\tOrdinal0 [0x00DDB71F+964383]\n\tGetHandleVerifier [0x011BE7E2+2743074]\n\tGetHandleVerifier [0x011B08D4+2685972]\n\tGetHandleVerifier [0x00FA2BAA+532202]\n\tGetHandleVerifier [0x00FA1990+527568]\n\tOrdinal0 [0x00EB080C+1837068]\n\tOrdinal0 [0x00EB4CD8+1854680]\n\tOrdinal0 [0x00EB4DC5+1854917]\n\tOrdinal0 [0x00EBED64+1895780]\n\tBaseThreadInitThunk [0x76BC0419+25]\n\tRtlGetAppContainerNamedObjectPath [0x771F74ED+237]\n\tRtlGetAppContainerNamedObjectPath [0x771F74BD+189]\n"
     ]
    }
   ],
   "source": []
  },
  {
   "cell_type": "code",
   "execution_count": 1,
   "metadata": {},
   "outputs": [
    {
     "ename": "NameError",
     "evalue": "name 'bs' is not defined",
     "output_type": "error",
     "traceback": [
      "\u001b[1;31m---------------------------------------------------------------------------\u001b[0m",
      "\u001b[1;31mNameError\u001b[0m                                 Traceback (most recent call last)",
      "Cell \u001b[1;32mIn [1], line 1\u001b[0m\n\u001b[1;32m----> 1\u001b[0m soup\u001b[39m=\u001b[39mbs(driver\u001b[39m.\u001b[39mpage_source,\u001b[39m\"\u001b[39m\u001b[39mhtml.parser\u001b[39m\u001b[39m\"\u001b[39m)\n\u001b[0;32m      2\u001b[0m soup\u001b[39m.\u001b[39mfind(\u001b[39m\"\u001b[39m\u001b[39mdiv\u001b[39m\u001b[39m\"\u001b[39m,class_\u001b[39m=\u001b[39m\u001b[39m\"\u001b[39m\u001b[39mlangSelectButton title\u001b[39m\u001b[39m\"\u001b[39m)\n",
      "\u001b[1;31mNameError\u001b[0m: name 'bs' is not defined"
     ]
    }
   ],
   "source": [
    "soup=bs(driver.page_source,\"html.parser\")\n",
    "soup.find(\"div\",class_=\"langSelectButton title\")"
   ]
  }
 ],
 "metadata": {
  "kernelspec": {
   "display_name": "Python 3.10.6 64-bit",
   "language": "python",
   "name": "python3"
  },
  "language_info": {
   "codemirror_mode": {
    "name": "ipython",
    "version": 3
   },
   "file_extension": ".py",
   "mimetype": "text/x-python",
   "name": "python",
   "nbconvert_exporter": "python",
   "pygments_lexer": "ipython3",
   "version": "3.10.6"
  },
  "orig_nbformat": 4,
  "vscode": {
   "interpreter": {
    "hash": "63963b3f4c440940f0b94a3100916033a226cb4f45979123153792d60aa56d6a"
   }
  }
 },
 "nbformat": 4,
 "nbformat_minor": 2
}
