{
 "cells": [
  {
   "cell_type": "code",
   "execution_count": 1,
   "metadata": {},
   "outputs": [
    {
     "name": "stderr",
     "output_type": "stream",
     "text": [
      "C:\\Users\\hp\\AppData\\Local\\Temp\\ipykernel_10744\\2703554372.py:6: DeprecationWarning: executable_path has been deprecated, please pass in a Service object\n",
      "  driver=webdriver.Chrome(executable_path=chrome_driver)\n"
     ]
    }
   ],
   "source": [
    "from selenium import webdriver\n",
    "from selenium.webdriver.common.by import By\n",
    "from selenium.webdriver.common.keys import Keys\n",
    "from bs4 import BeautifulSoup as bs\n",
    "chrome_driver=\"/Webdevopment/chromedriver\"\n",
    "driver=webdriver.Chrome(executable_path=chrome_driver)\n",
    "driver.get(\"https://orteil.dashnet.org/experiments/cookie/\")"
   ]
  },
  {
   "cell_type": "code",
   "execution_count": 40,
   "metadata": {},
   "outputs": [
    {
     "ename": "TypeError",
     "evalue": "'str' object is not callable",
     "output_type": "error",
     "traceback": [
      "\u001b[1;31m---------------------------------------------------------------------------\u001b[0m",
      "\u001b[1;31mTypeError\u001b[0m                                 Traceback (most recent call last)",
      "Cell \u001b[1;32mIn [40], line 15\u001b[0m\n\u001b[0;32m     13\u001b[0m cookies\u001b[39m.\u001b[39mclick()\n\u001b[0;32m     14\u001b[0m \u001b[39mif\u001b[39;00m time\u001b[39m.\u001b[39mtime()\u001b[39m>\u001b[39m timeout:\n\u001b[1;32m---> 15\u001b[0m     all_prices\u001b[39m=\u001b[39mdriver\u001b[39m.\u001b[39mfind_elements(By\u001b[39m.\u001b[39;49mCSS_SELECTOR(\u001b[39m\"\u001b[39;49m\u001b[39m#store b\u001b[39;49m\u001b[39m\"\u001b[39;49m))\n\u001b[0;32m     16\u001b[0m     item_prices\u001b[39m=\u001b[39m[]\n\u001b[0;32m     18\u001b[0m     \u001b[39mfor\u001b[39;00m price \u001b[39min\u001b[39;00m all_prices:\n",
      "\u001b[1;31mTypeError\u001b[0m: 'str' object is not callable"
     ]
    }
   ],
   "source": [
    "import time\n",
    "cookies=driver.find_element(By.ID,\"cookie\").click()\n",
    "\n",
    "\n",
    "items=driver.find_elements(By.CSS_SELECTOR,\"#store div\")\n",
    "items_ids=[item.get_attribute(\"id\") for item in items]\n",
    "\n",
    "\n",
    "timeout=time.time()+5\n",
    "five_min=time.time()+ 60*5\n",
    "\n",
    "while True:\n",
    "    cookies.click()\n",
    "    if time.time()> timeout:\n",
    "        all_prices=driver.find_elements(By.CSS_SELECTOR(\"#store b\"))\n",
    "        item_prices=[]\n",
    "\n",
    "        for price in all_prices:\n",
    "            element_text=price.text\n",
    "            if element_text!=\"\":\n",
    "                cost=int(element_text.split(\"-\")[1].strip().replace(\",\",\"\"))\n",
    "                item_prices.append(cost)\n",
    "\n",
    "\n",
    "        cookies_upgrades={}\n",
    "        for n in range(len(item_prices)):\n",
    "            cookies_upgrades[item_prices[n]]=items_ids[n]\n",
    "\n",
    "\n",
    "        money_element=driver.find_element(By.ID,\"money\").text\n",
    "        if \",\" in money_element:\n",
    "            money_element=money_element.replace(\",\",\"\")\n",
    "        cookies_count=int(money_element)\n",
    "\n",
    "        affordable_upgrades={}\n",
    "        for cost, id in cookies_upgrades.items():\n",
    "            if cookies_count > cost:\n",
    "                affordable_upgrades[cost]=id\n",
    "\n",
    "        highest_price_affordable_upgrade=max(affordable_upgrades)\n",
    "        print(highest_price_affordable_upgrade)\n",
    "        to_purchase_id=affordable_upgrades[highest_price_affordable_upgrade]\n",
    "\n",
    "        driver.find_element(By.ID, to_purchase_id).click()\n",
    "\n",
    "        timeout=time.time()+5\n",
    "\n",
    "        if time.time() > five_min:\n",
    "            cookie_per_s=driver.find_element(By.ID,\"cps\").text\n",
    "            print(cookie_per_s)\n",
    "            break\n"
   ]
  },
  {
   "cell_type": "code",
   "execution_count": 38,
   "metadata": {},
   "outputs": [],
   "source": [
    "driver.find_element(By.ID,\"cookie\").click()"
   ]
  }
 ],
 "metadata": {
  "kernelspec": {
   "display_name": "Python 3.10.6 64-bit",
   "language": "python",
   "name": "python3"
  },
  "language_info": {
   "codemirror_mode": {
    "name": "ipython",
    "version": 3
   },
   "file_extension": ".py",
   "mimetype": "text/x-python",
   "name": "python",
   "nbconvert_exporter": "python",
   "pygments_lexer": "ipython3",
   "version": "3.10.6"
  },
  "orig_nbformat": 4,
  "vscode": {
   "interpreter": {
    "hash": "63963b3f4c440940f0b94a3100916033a226cb4f45979123153792d60aa56d6a"
   }
  }
 },
 "nbformat": 4,
 "nbformat_minor": 2
}
