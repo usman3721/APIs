import time
from 



















time.sleep(5) # sleep for 5 min after loginninfg in
all_listings=driver