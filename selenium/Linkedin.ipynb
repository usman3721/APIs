{
 "cells": [
  {
   "cell_type": "code",
   "execution_count": 1,
   "metadata": {},
   "outputs": [
    {
     "name": "stderr",
     "output_type": "stream",
     "text": [
      "C:\\Users\\hp\\AppData\\Local\\Temp\\ipykernel_9072\\204431791.py:6: DeprecationWarning: executable_path has been deprecated, please pass in a Service object\n",
      "  driver=webdriver.Chrome(executable_path=chrome_driver)\n"
     ]
    }
   ],
   "source": [
    "from selenium import webdriver\n",
    "from selenium.webdriver.common.by import By\n",
    "from selenium.webdriver.common.keys import Keys\n",
    "from bs4 import BeautifulSoup as bs\n",
    "chrome_driver=\"/Webdevopment/chromedriver\"\n",
    "driver=webdriver.Chrome(executable_path=chrome_driver)\n",
    "driver.get(\"https://www.linkedin.com/jobs/\")\n",
    "\n",
    "# verification_pin=driver.find_element(By.NAME,\"pin\")\n",
    "# verification_pin.send_keys(385633)\n",
    "# time.sleep(3)"
   ]
  },
  {
   "cell_type": "code",
   "execution_count": 13,
   "metadata": {},
   "outputs": [],
   "source": [
    "\n",
    "import time\n",
    "\n",
    "# USERNAME=\"olamidehassan007@gmail.com\"\n",
    "# PASSWORD=\"Osuolale99\"\n",
    "# PIN=469337\n",
    "\n",
    "# driver.find_element(By.LINK_TEXT,\"Sign in\").click()\n",
    "# email=driver.find_element(By.ID,\"username\")\n",
    "# email.send_keys(USERNAME)\n",
    "\n",
    "# password=driver.find_element(By.ID,\"password\")\n",
    "# password.send_keys(PASSWORD)\n",
    "\n",
    "# driver.find_element(By.CLASS_NAME,\"login__form_action_container \").click()\n",
    "# time.sleep(2)\n",
    "\n",
    "all_listing=driver.find_elements(By.CSS_SELECTOR,\".job button\")\n",
    "for listing in all_listing:\n",
    "    print(\"called\")\n",
    "    listing.click()\n",
    "    time.sleep(5)\n",
    "    \n",
    "    #locating the apply button else skip\n",
    "    \n",
    "    try:\n",
    "        apply_button=driver.find_element(By.CSS_SELECTOR,\".apply_button\")\n",
    "        apply_button.click()\n",
    "        time.sleep(5)\n",
    "        \n",
    "        #if P.H is empty, then fill with your number\n",
    "        ph=driver.find_element(By.CSS_SELECTOR,\".ph\")\n",
    "        if pH ==\"\":\n",
    "            phone.send_key(PHONE)\n",
    "            \n",
    "        #if submit button ==next button\n",
    "        submit_button=driver.find_element(By.CSS_sELECTOR,\".submit-button\")\n",
    "        if submit_button.get_attributes(\"data_contron_name\")==\"continue_unify\":\n",
    "            close_button=driver.find_element(By.CLASS_NAME,\"\")\n",
    "            print(\"complex application,skipped.\")\n",
    "            continue\n",
    "        else:\n",
    "            submit_button.click()\n",
    "        time.sleep(5)\n",
    "        close_button=driver.find_element(By.CLASS_NAME,\"\")\n",
    "        close_button.click()\n",
    "    except NoSuchElemenException:\n",
    "        print(\"No such appliaction button,skipped\")\n",
    "        conitinue\n",
    "            \n",
    "\n",
    "# driver.find_element(By.CSS_SELECTOR,\".full-width\").click()\n",
    "#     # time.sleep(1)\n",
    "#     # elements.click()\n",
    "#     # time.sleep(2)\n",
    "# driver.find_element(By.CSS_SELECTOR,\".jobs-save-button\").click()\n",
    "\n",
    "\n",
    "\n",
    "\n",
    "\n",
    "\n",
    "\n",
    "\n",
    "\n"
   ]
  }
 ],
 "metadata": {
  "kernelspec": {
   "display_name": "Python 3 (ipykernel)",
   "language": "python",
   "name": "python3"
  },
  "language_info": {
   "codemirror_mode": {
    "name": "ipython",
    "version": 3
   },
   "file_extension": ".py",
   "mimetype": "text/x-python",
   "name": "python",
   "nbconvert_exporter": "python",
   "pygments_lexer": "ipython3",
   "version": "3.10.6"
  },
  "vscode": {
   "interpreter": {
    "hash": "63963b3f4c440940f0b94a3100916033a226cb4f45979123153792d60aa56d6a"
   }
  }
 },
 "nbformat": 4,
 "nbformat_minor": 4
}
